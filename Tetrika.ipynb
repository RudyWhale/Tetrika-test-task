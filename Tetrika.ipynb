{
 "cells": [
  {
   "cell_type": "markdown",
   "metadata": {},
   "source": [
    "## Task 1 ##\n",
    "\n",
    "Есть файл с именами (https://yadi.sk/i/97rbNP2ucGoAKw). Нужно выполнить следующие действия и посчитать результат:\n",
    "\n",
    "1. Отсортировать все имена в лексикографическом порядке\n",
    "2. Посчитать для каждого имени алфавитную сумму – сумму порядковых номеров букв (MAY: 13 + 1 + 25 = 39)\n",
    "3. Умножить алфавитную сумму каждого имени на порядковый номер имени в отсортированном списке (индексация начинается с 1). Например, если MAY находится на 63 месте в списке, то результат для него будет 63 * 39 = 2457.\n",
    "4. Просуммировать произведения из п. 3 для всех имен из файла и получить число. Это число и будет ответом."
   ]
  },
  {
   "cell_type": "code",
   "execution_count": 78,
   "metadata": {},
   "outputs": [
    {
     "name": "stdout",
     "output_type": "stream",
     "text": [
      "871853874\n"
     ]
    }
   ],
   "source": [
    "with open('names.txt', 'r') as f:\n",
    "    names = f.read().split('\",\"')\n",
    "\n",
    "# Remove quotes from first and last strings\n",
    "names[0] = names[0].lstrip('\"')\n",
    "names[-1] = names[-1].rstrip('\"')\n",
    "\n",
    "names.sort()\n",
    "\n",
    "# Get alphabet sums\n",
    "sums = [sum([ord(w) - 64 for w in name]) for name in names]\n",
    "\n",
    "# Mupltiply by position in list\n",
    "values = [i * s for i, s in enumerate(sums, 1)]\n",
    "\n",
    "print(sum(values))"
   ]
  },
  {
   "cell_type": "markdown",
   "metadata": {},
   "source": [
    "## Task 2 ##\n",
    "\n",
    "Есть файл со строками (https://yadi.sk/d/u6AOqGqKozTrpw) вида :\n",
    "\n",
    "```<host>\\t<ip>\\t<page>\\n```\n",
    "\n",
    "Нужно вывести 5 айпи-адресов, которые встречаются чаще других."
   ]
  },
  {
   "cell_type": "code",
   "execution_count": 137,
   "metadata": {},
   "outputs": [
    {
     "name": "stdout",
     "output_type": "stream",
     "text": [
      "154.157.157.156: 1531\n",
      "82.146.232.163: 1505\n",
      "194.78.107.33: 1494\n",
      "226.247.119.128: 1494\n",
      "21.143.243.182: 1479\n"
     ]
    }
   ],
   "source": [
    "from collections import defaultdict\n",
    "\n",
    "# Count ips in dict with deafult value 0\n",
    "counts = defaultdict(int)\n",
    "\n",
    "with open('hits.txt') as f:\n",
    "    # Read file line by line\n",
    "    line = f.readline()\n",
    "    \n",
    "    while line:\n",
    "        ip = line.split()[1]\n",
    "        counts[ip] += 1\n",
    "        line = f.readline()\n",
    "       \n",
    "# Sort ips by count\n",
    "sorted_counts = {ip: count for ip, count in sorted(counts.items(), key=lambda item: item[1], reverse=True)}\n",
    "most_popular = list(sorted_counts.keys())[:5]\n",
    "for item in list(sorted_counts.items())[:5]:\n",
    "    print(f'{item[0]}: {item[1]}')"
   ]
  },
  {
   "cell_type": "markdown",
   "metadata": {},
   "source": [
    "## Task 3 ##\n",
    "\n",
    "В нашей школе ученики и репетиторы занимаются в специальном онлайн-классе, в котором они могут общаться друг с другом, рисовать на доске, переписываться в чате, обмениваться файлами и решать различные задачки. Информацию о каждом уроке мы старательно записываем в базу данных в таблицу lessons. На каждом таком уроке присутствует один репетитор и один ученик (существуют еще тренировочные уроки, у которых единственный участник – репетитор, но для нашей задачи они неинтересны). В конце урока, когда учитель и ученик покидают класс, они могут оценить (а могут и пропустить этот этап) качество пройденного урока по пятибальной шкале. Все оценки мы записываем в таблицу quality, чтобы мы могли узнавать, хорошо ли работает наш сайт.\n",
    "\n",
    "В этой задаче тебе нужно будет в каждый день найти репетитора, уроки которого получили самую низкую оценку качества, и вывести эту оценку.\n",
    "\n",
    "В архиве (https://yadi.sk/d/ESH_lU5sZRdKhA) содержится четыре файла с выгрузкой строк из базы.\n",
    "\n",
    "lessons.txt содержит следующие поля:\n",
    "id – уникальный идентификатор урока.\n",
    "event_id – идентификатор, связывающий уроки с файлом participants. У нескольких уроков может быть один и тот же event_id. Подробнее про это будет позже\n",
    "subject – предмет урока, просто строка\n",
    "scheduled_time – время начала урока, в формате ГГГГ-ММ-ДД чч:мм:сс (иногда есть еще миллисекунды). Время указано в UTC.\n",
    "\n",
    "quality.txt содержит следующие поля:\n",
    "lesson_id – идентификатор урока, указывает на запись в таблице lessons.txt. У нескольких строчек из этого файла может быть один и тот же lesson_id, потому что оценок за урок может быть несколько (например, оба участника, ученик и репетитор могут оценить качество урока)\n",
    "tech_quality – собственно оценка качества урока. Это число от 1 до 5. Иногда его может не быть, если пользователь не выставил оценку.\n",
    "\n",
    "users.txt хранит информацию о пользователях и содержит всего два поля:\n",
    "id – уникальный идентификатор пользователя\n",
    "role – указывает является ли пользователь учеником (pupil) или учителем (tutor)\n",
    "\n",
    "Файл participants.txt позволяет связать урок с его участниками. Он содержит следующие поля:\n",
    "user_id – идентификатор пользователя (указывает на запись в файле users.txt)\n",
    "event_id – идентификатор, связывающий урок с участником. То есть, чтобы понять, какие пользователи были на уроке Х, нужно найти в файле participants.txt строки, у которых event_id совпадает с event_id урока Х.\n",
    "\n",
    "Для решения задачки нужно сделать следующее:\n",
    "1. Найти все уроки по физике (subject=phys).\n",
    "2. В каждый день (начало и конец дня считается по московскому времени, то есть UTC+3:00) для каждого репетитора посчитать среднюю арифметическую оценку за его уроки (учитывать только уроки из п. 1). То есть, если учитель проводил в этот день три урока по физике, один из них он оценил на 3, а ученик оценил его на 4, второму уроку оценку поставил только ученик, и эта оценка 5, а третий урок вообще никто не оценил, то средняя арифметическая оценка учителя за уроки = (3 + 4 + 5) / 3 = 4.\n",
    "3. Найти учителя, который в этот день имеет самую низкую среднюю арифметическую оценку за уроки (среди всех учителей, проводивших уроки по физике в этот день).\n",
    "4. Вывести его в формате \"<день> <id учителя> <средняя арифметическая оценка>\". Оценку можно округлить с точностью до двух знаков после запятой. То есть как-то так:\n",
    "2020-01-11 73c9af08-8581-430c-a590-9888ab36deb3 3.67\n",
    "2020-01-12 909c2c8e-c054-4e9f-a51a-50bf5660f364 3.25\n",
    "...\n",
    "4. Учитывать нужно только тех учителей, за уроки по физике которых в этот день стоит хотя бы одна оценка. Если у нескольких учителей одна и та же самая оценка, можно вывести любого."
   ]
  },
  {
   "cell_type": "code",
   "execution_count": 96,
   "metadata": {},
   "outputs": [],
   "source": [
    "'''\n",
    "Load data in given format.\n",
    "For each line returns list of parsed string values\n",
    "'''\n",
    "def readfile(filename):\n",
    "    with open(filename, 'r') as f:\n",
    "        # We don't need headers and lines count\n",
    "        data = f.readlines()[2:-2]\n",
    "    \n",
    "    # Now we can clear data\n",
    "    result = []\n",
    "    \n",
    "    for line in data:\n",
    "        line_data = line.replace(' ', '').rstrip('\\n').split('|')\n",
    "        result.append(line_data)\n",
    "        \n",
    "    return result"
   ]
  },
  {
   "cell_type": "code",
   "execution_count": 135,
   "metadata": {},
   "outputs": [
    {
     "name": "stdout",
     "output_type": "stream",
     "text": [
      "2020-01-11 c0c073c8-cb9c-4ebc-ac13-472c06029591 1.67\n",
      "2020-01-12 b37ccae8-fc31-4ad8-8f55-ca855b23fbf6 1.67\n",
      "2020-01-13 2fa2ab62-f1b0-4036-872f-bcfd9a8686ff 5.00\n",
      "2020-01-14 43efce48-94b2-4412-857f-223d45969008 3.33\n",
      "2020-01-15 603b8641-c6f6-4d89-ac89-88e50d45aa0d 5.00\n",
      "2020-01-16 696c838e-c054-4e9f-a51a-50bf5660f364 2.50\n",
      "2020-01-17 43efce48-94b2-4412-857f-223d45969008 3.50\n",
      "2020-01-18 c0c073c8-cb9c-4ebc-ac13-472c06029591 2.50\n",
      "2020-01-19 4df2832a-1d63-4453-9659-43993fc35996 1.67\n",
      "2020-01-20 696c838e-c054-4e9f-a51a-50bf5660f364 5.00\n"
     ]
    }
   ],
   "source": [
    "from collections import defaultdict\n",
    "\n",
    "# Load data\n",
    "dir = 'tech_quality/'\n",
    "participants = defaultdict(list)\n",
    "    \n",
    "# Save to dict lessons with subject == 'phys'\n",
    "lessons_by_date = defaultdict(list)\n",
    "data = readfile(dir + 'lessons.txt')\n",
    "for line_data in data:\n",
    "    if line_data[2] == 'phys':\n",
    "        l_id = line_data[0]\n",
    "        l_event = line_data[1]\n",
    "        l_date = line_data[3][:10]\n",
    "        lessons_by_date[l_date].append({'event': l_event, 'id': l_id})\n",
    "            \n",
    "# Associate lesson id with it's quality values\n",
    "quality_by_lesson = defaultdict(list)\n",
    "data = readfile(dir + 'quality.txt')\n",
    "for line_data in data:\n",
    "    # Check if there is quality value\n",
    "    if line_data[1]:\n",
    "        lesson_id, lesson_quality = line_data\n",
    "        quality_by_lesson[lesson_id].append(int(lesson_quality))\n",
    "\n",
    "# Get tutors list\n",
    "tutors = []\n",
    "data = readfile(dir + 'users.txt')\n",
    "for line_data in data:\n",
    "    user_id, role = line_data\n",
    "    if role == 'tutor' and user_id not in tutors:\n",
    "        tutors.append(user_id)\n",
    "        \n",
    "# Associate lesson id with tutor\n",
    "tutors_by_event = {}\n",
    "data = readfile(dir + 'participants.txt')\n",
    "for line_data in data:\n",
    "    event, user = line_data\n",
    "    if user in tutors:\n",
    "        tutors_by_event[event] = user\n",
    "        \n",
    "# Now we can find the answer\n",
    "for date in sorted(lessons_by_date):\n",
    "    quality_by_tutor = defaultdict(list)\n",
    "    lessons_count = defaultdict(int)\n",
    "    \n",
    "    for lesson in lessons_by_date[date]:\n",
    "        tutor = tutors_by_event[lesson['event']]\n",
    "        quality = quality_by_lesson[lesson['id']]\n",
    "        quality_by_tutor[tutor].extend(quality)\n",
    "        lessons_count[tutor] += 1\n",
    "    \n",
    "    # Total score for each tutor who has at least 1 mark at this date\n",
    "    score_by_tutor = [(tutor, sum(quality_by_tutor[tutor])/lessons_count[tutor]) \n",
    "                      for tutor, quality in quality_by_tutor.items()\n",
    "                         if quality_by_tutor[tutor]]\n",
    "    \n",
    "    min_tutor, min_score = min(score_by_tutor, key=lambda v: v[1])\n",
    "    print(f'{date} {min_tutor} {min_score:.2f}')"
   ]
  }
 ],
 "metadata": {
  "kernelspec": {
   "display_name": "Python 3",
   "language": "python",
   "name": "python3"
  },
  "language_info": {
   "codemirror_mode": {
    "name": "ipython",
    "version": 3
   },
   "file_extension": ".py",
   "mimetype": "text/x-python",
   "name": "python",
   "nbconvert_exporter": "python",
   "pygments_lexer": "ipython3",
   "version": "3.7.1"
  }
 },
 "nbformat": 4,
 "nbformat_minor": 4
}
